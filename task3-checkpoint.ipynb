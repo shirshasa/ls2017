{
 "cells": [
  {
   "cell_type": "markdown",
   "metadata": {},
   "source": [
    "## Задача 3\n",
    "\n",
    "<img src=\"p2.png\">\n",
    "Пусть падение пьяницы соответствует следующим 3-ем шагам,то есть два шага вперед из начального положения -это еще благоприятная ситуация. \n",
    "Надо найти вероятность ,что пьяница не свалится. Сначала рассмотрим веротяность того,что пьяница свалился после N шагов.\n",
    "\n",
    "Не трудно видеть,что для фэйла надо :\n",
    "- N-1 шага он оставлася живым\n",
    "- на N-1 шаге быть в шаге от падения\n",
    "- последний шаг -шаг вперед\n",
    "<img src=\"p44.png\">\n",
    "\n",
    "**Представим в виде графика блуждание господина**\n",
    "Здесь наклонная линия вправо - шаг вперед,влево - шаг наззад. \n",
    "Стартовая позиция пьяницы - (0,0).\n",
    "Красная линия - обрыв.\n",
    "\n",
    "**Найдем вероятность того,что за N-1 шаг он остался на земле.**\n",
    "\n",
    "Если закодировать передвижение пьяницы получим вектор из N-1 компоненты : (-1,1,-1,....,1)\n",
    "\"+1\" - шаг вперед \"-1\" - назад. \n",
    "Чтобы наш друг не упал за N-1 ход сумма этих едениц должна не превосходить 2.\n",
    "Можно заметить,что условие - на N-1 ход он в (N-1,2) выполняется ,если он совершил 2 шага вперед и еще равное количесвто шагов вперед-назад.\n",
    "\n",
    "Ищем  различные пути из  (0,0) в (N-1,2) ,которые не пересекают крассную линию.\n",
    "\n",
    "Это есть \n",
    "$T1$: все пути из(0,0) в (2,N-1)\n",
    "минус \n",
    "$T2$: пути из(5,0) в (1,N-1).\n",
    "$T2$ - сине-зеленный путь. Такой,что его инвертирование дает \"плохой путь\" пересекающий уровень. \n",
    "<img src=\"p6.png\">\n",
    "\n",
    "\n",
    "Количество \"-1\" в $T1$  = $(N-3)/2$\n",
    "Тогда число всех путей $T1$ = способы разместить $(N-3)/2$ в векторе длинной N-1\n",
    "Аналогично считаем для $T2$ .\n",
    "\n",
    "- $m = N-1$\n",
    "- $k = (N-3)/2$\n",
    "- $b = (N-5)/2$\n",
    "\n",
    "$T1 = C_m^k$\n",
    "$T2 =  C_m^b$\n",
    "\n",
    "**Найдем вероятность падения:**\n",
    "\n",
    "P(пьяница _упадет_после_N_шагов) = $(T1 - T2) * p^{k + 2 } * q ^ {k} * p$ \n",
    "\n",
    "\n",
    "\n",
    "- $p^{(k + 2} * q ^ {k}$  -- блуждания до падения\n",
    "- $(T1 - T2) $ - способы блуждать и не упасть\n",
    "- $p$  -вероятность шага вперед\n",
    "- $q$ - вероятность шага назад\n",
    "\n",
    "**Тогда вероятность ,что он останеться жив после N шагов** :\n",
    " $$P = 1 - P(пьяница упадет_после_N_шагов)$$\n"
   ]
  },
  {
   "cell_type": "markdown",
   "metadata": {},
   "source": [
    "Еще одно замечание. Если за нечетное количество пьяница не упал,то на на четном шаге он с той же вероятностью останется на обрыве."
   ]
  },
  {
   "cell_type": "code",
   "execution_count": 21,
   "metadata": {
    "collapsed": false
   },
   "outputs": [
    {
     "data": {
      "text/plain": [
       "[<matplotlib.lines.Line2D at 0x1d591538f98>]"
      ]
     },
     "execution_count": 21,
     "metadata": {},
     "output_type": "execute_result"
    },
    {
     "data": {
      "image/png": "[encoded data removed]",
      "text/plain": [
       "<matplotlib.figure.Figure at 0x1d58ff56048>"
      ]
     },
     "metadata": {},
     "output_type": "display_data"
    }
   ],
   "source": [
    "from matplotlib import pylab as plt\n",
    "\n",
    "maxn = 100\n",
    "maxn2 = maxn+1\n",
    "C = [[0] * maxn2 for i in range(maxn2)]\n",
    "\n",
    "\n",
    "def count_c():\n",
    "    for n in range(maxn+1):\n",
    "        C[n][0] = 1\n",
    "        C[n][n] = 1\n",
    "        for k in range(1,n):\n",
    "            C[n][k] = (C[n-1][k-1] + C[n-1][k])\n",
    "\n",
    "\n",
    "def probability_alive(N):\n",
    "    k = int((N-3)/2)\n",
    "    d = int((N-5)/2)\n",
    "    C1 = C[N-1][k]\n",
    "    C2 = C[N-1][d]\n",
    "    a = (2/3)**(k+3)\n",
    "    b = (1/3) ** k\n",
    "    return 1-(C1-C2)*a*b\n",
    "\n",
    "\n",
    "count_c()\n",
    "x = [i for i in range(5,50)]\n",
    "y = [probability_alive(i) for i in range(5,50)]\n",
    "\n",
    "plt.plot(x, y)"
   ]
  },
  {
   "cell_type": "code",
   "execution_count": null,
   "metadata": {
    "collapsed": true
   },
   "outputs": [],
   "source": []
  }
 ],
 "metadata": {
  "kernelspec": {
   "display_name": "Python 3",
   "language": "python",
   "name": "python3"
  },
  "language_info": {
   "codemirror_mode": {
    "name": "ipython",
    "version": 3
   },
   "file_extension": ".py",
   "mimetype": "text/x-python",
   "name": "python",
   "nbconvert_exporter": "python",
   "pygments_lexer": "ipython3",
   "version": "3.6.0"
  }
 },
 "nbformat": 4,
 "nbformat_minor": 2
}
